{
 "cells": [
  {
   "cell_type": "code",
   "execution_count": 2,
   "metadata": {},
   "outputs": [],
   "source": [
    "import pandas as pd\n",
    "import numpy as np"
   ]
  },
  {
   "cell_type": "code",
   "execution_count": 3,
   "metadata": {},
   "outputs": [],
   "source": [
    "data = pd.read_csv('dataset/data.csv', encoding='ISO-8859-1', delimiter=';')"
   ]
  },
  {
   "cell_type": "code",
   "execution_count": 4,
   "metadata": {},
   "outputs": [
    {
     "output_type": "execute_result",
     "data": {
      "text/plain": "  InvoiceNo,StockCode,Description,Quantity,InvoiceDate,UnitPrice,CustomerID,Country\n0  536365,85123A,WHITE HANGING HEART T-LIGHT HOLD...                               \n1  536365,71053,WHITE METAL LANTERN,6,12/1/2010 8...                               \n2  536365,84406B,CREAM CUPID HEARTS COAT HANGER,8...                               \n3  536365,84029G,KNITTED UNION FLAG HOT WATER BOT...                               \n4  536365,84029E,RED WOOLLY HOTTIE WHITE HEART.,6...                               ",
      "text/html": "<div>\n<style scoped>\n    .dataframe tbody tr th:only-of-type {\n        vertical-align: middle;\n    }\n\n    .dataframe tbody tr th {\n        vertical-align: top;\n    }\n\n    .dataframe thead th {\n        text-align: right;\n    }\n</style>\n<table border=\"1\" class=\"dataframe\">\n  <thead>\n    <tr style=\"text-align: right;\">\n      <th></th>\n      <th>InvoiceNo,StockCode,Description,Quantity,InvoiceDate,UnitPrice,CustomerID,Country</th>\n    </tr>\n  </thead>\n  <tbody>\n    <tr>\n      <th>0</th>\n      <td>536365,85123A,WHITE HANGING HEART T-LIGHT HOLD...</td>\n    </tr>\n    <tr>\n      <th>1</th>\n      <td>536365,71053,WHITE METAL LANTERN,6,12/1/2010 8...</td>\n    </tr>\n    <tr>\n      <th>2</th>\n      <td>536365,84406B,CREAM CUPID HEARTS COAT HANGER,8...</td>\n    </tr>\n    <tr>\n      <th>3</th>\n      <td>536365,84029G,KNITTED UNION FLAG HOT WATER BOT...</td>\n    </tr>\n    <tr>\n      <th>4</th>\n      <td>536365,84029E,RED WOOLLY HOTTIE WHITE HEART.,6...</td>\n    </tr>\n  </tbody>\n</table>\n</div>"
     },
     "metadata": {},
     "execution_count": 4
    }
   ],
   "source": [
    "data.head()"
   ]
  },
  {
   "cell_type": "code",
   "execution_count": null,
   "metadata": {},
   "outputs": [],
   "source": []
  }
 ],
 "metadata": {
  "kernelspec": {
   "display_name": "Python 3",
   "language": "python",
   "name": "python3"
  },
  "language_info": {
   "codemirror_mode": {
    "name": "ipython",
    "version": 3
   },
   "file_extension": ".py",
   "mimetype": "text/x-python",
   "name": "python",
   "nbconvert_exporter": "python",
   "pygments_lexer": "ipython3",
   "version": "3.8.3-final"
  }
 },
 "nbformat": 4,
 "nbformat_minor": 4
}